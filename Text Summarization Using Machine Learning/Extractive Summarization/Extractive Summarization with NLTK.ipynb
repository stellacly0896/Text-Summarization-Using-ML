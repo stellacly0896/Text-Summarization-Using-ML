{
 "cells": [
  {
   "cell_type": "markdown",
   "metadata": {},
   "source": [
    "# Text Summarization coding"
   ]
  },
  {
   "cell_type": "code",
   "execution_count": 2,
   "metadata": {},
   "outputs": [],
   "source": [
    "import nltk\n",
    "import re"
   ]
  },
  {
   "cell_type": "code",
   "execution_count": 3,
   "metadata": {
    "scrolled": false
   },
   "outputs": [
    {
     "name": "stdout",
     "output_type": "stream",
     "text": [
      "Maria Sharapova has basically no friends as tennis players on the WTA Tour. The Russian player has no problems in openly speaking about it and in a recent interview she said: 'I don't really hide any feelings too much. I think everyone knows this is my job here. When I'm on the courts or when I'm on the court playing, I'm a competitor and I want to beat every single person whether they're in the locker room or across the net.So I'm not the one to strike up a conversation about the weather and know that in the next few minutes I have to go and try to win a tennis match. I'm a pretty competitive girl. I say my hellos, but I'm not sending any players flowers as well. Uhm, I'm not really friendly or close to many players. I have not a lot of friends away from the courts.' When she said she is not really close to a lot of players, is that something strategic that she is doing? Is it different on the men's tour than the women's tour? 'No, not at all. I think just because you're in the same sport doesn't mean that you have to be friends with everyone just because you're categorized, you're a tennis player, so you're going to get along with tennis players. I think every person has different interests. I have friends that have completely different jobs and interests, and I've met them in very different parts of my life. I think everyone just thinks because we're tennis players we should be the greatest of friends. But ultimately tennis is just a very small part of what we do. There are so many other things that we're interested in, that we do.'\n"
     ]
    }
   ],
   "source": [
    "file = open('article.txt','r',encoding = 'utf-8').read()\n",
    "print(file)"
   ]
  },
  {
   "cell_type": "code",
   "execution_count": 4,
   "metadata": {},
   "outputs": [
    {
     "name": "stdout",
     "output_type": "stream",
     "text": [
      "['Maria Sharapova has basically no friends as tennis players on the WTA Tour.', \"The Russian player has no problems in openly speaking about it and in a recent interview she said: 'I don't really hide any feelings too much.\", 'I think everyone knows this is my job here.', \"When I'm on the courts or when I'm on the court playing, I'm a competitor and I want to beat every single person whether they're in the locker room or across the net.So I'm not the one to strike up a conversation about the weather and know that in the next few minutes I have to go and try to win a tennis match.\", \"I'm a pretty competitive girl.\", \"I say my hellos, but I'm not sending any players flowers as well.\", \"Uhm, I'm not really friendly or close to many players.\", \"I have not a lot of friends away from the courts.'\", 'When she said she is not really close to a lot of players, is that something strategic that she is doing?', \"Is it different on the men's tour than the women's tour?\", \"'No, not at all.\", \"I think just because you're in the same sport doesn't mean that you have to be friends with everyone just because you're categorized, you're a tennis player, so you're going to get along with tennis players.\", 'I think every person has different interests.', \"I have friends that have completely different jobs and interests, and I've met them in very different parts of my life.\", \"I think everyone just thinks because we're tennis players we should be the greatest of friends.\", 'But ultimately tennis is just a very small part of what we do.', \"There are so many other things that we're interested in, that we do.'\"]\n"
     ]
    }
   ],
   "source": [
    "sent_list = nltk.sent_tokenize(file)\n",
    "print(sent_list)"
   ]
  },
  {
   "cell_type": "markdown",
   "metadata": {},
   "source": [
    "## create a word frequency table"
   ]
  },
  {
   "cell_type": "code",
   "execution_count": 5,
   "metadata": {},
   "outputs": [
    {
     "name": "stdout",
     "output_type": "stream",
     "text": [
      "{'Maria': 1, 'Sharapova': 1, 'basically': 1, 'friends': 5, 'tennis': 6, 'players': 6, 'WTA': 1, 'Tour': 1, '.': 15, 'The': 1, 'Russian': 1, 'player': 2, 'problems': 1, 'openly': 1, 'speaking': 1, 'recent': 1, 'interview': 1, 'said': 2, ':': 1, \"'\": 3, 'I': 18, \"n't\": 2, 'really': 3, 'hide': 1, 'feelings': 1, 'much': 1, 'think': 4, 'everyone': 3, 'knows': 1, 'job': 1, 'When': 2, \"'m\": 7, 'courts': 2, 'court': 1, 'playing': 1, ',': 9, 'competitor': 1, 'want': 1, 'beat': 1, 'every': 2, 'single': 1, 'person': 2, 'whether': 1, \"'re\": 7, 'locker': 1, 'room': 1, 'across': 1, 'net.So': 1, 'one': 1, 'strike': 1, 'conversation': 1, 'weather': 1, 'know': 1, 'next': 1, 'minutes': 1, 'go': 1, 'try': 1, 'win': 1, 'match': 1, 'pretty': 1, 'competitive': 1, 'girl': 1, 'say': 1, 'hellos': 1, 'sending': 1, 'flowers': 1, 'well': 1, 'Uhm': 1, 'friendly': 1, 'close': 2, 'many': 2, 'lot': 2, 'away': 1, 'something': 1, 'strategic': 1, '?': 2, 'Is': 1, 'different': 4, 'men': 1, \"'s\": 2, 'tour': 2, 'women': 1, \"'No\": 1, 'sport': 1, 'mean': 1, 'categorized': 1, 'going': 1, 'get': 1, 'along': 1, 'interests': 2, 'completely': 1, 'jobs': 1, \"'ve\": 1, 'met': 1, 'parts': 1, 'life': 1, 'thinks': 1, 'greatest': 1, 'But': 1, 'ultimately': 1, 'small': 1, 'part': 1, 'There': 1, 'things': 1, 'interested': 1}\n"
     ]
    }
   ],
   "source": [
    "stopwords = nltk.corpus.stopwords.words('english')\n",
    "\n",
    "word_freq = {}\n",
    "for word in nltk.word_tokenize(file):\n",
    "    if word in stopwords:\n",
    "        continue\n",
    "    if word in word_freq:\n",
    "        word_freq[word] +=1\n",
    "    else:\n",
    "        word_freq[word] = 1\n",
    "        \n",
    "print(word_freq)"
   ]
  },
  {
   "cell_type": "markdown",
   "metadata": {},
   "source": [
    "## score the sentences"
   ]
  },
  {
   "cell_type": "code",
   "execution_count": 6,
   "metadata": {},
   "outputs": [
    {
     "name": "stdout",
     "output_type": "stream",
     "text": [
      "{'Maria Sharapova has basically no friends as tennis players on the WTA Tour.': 15, \"The Russian player has no problems in openly speaking about it and in a recent interview she said: 'I don't really hide any feelings too much.\": 22, 'I think everyone knows this is my job here.': 15, \"When I'm on the courts or when I'm on the court playing, I'm a competitor and I want to beat every single person whether they're in the locker room or across the net.So I'm not the one to strike up a conversation about the weather and know that in the next few minutes I have to go and try to win a tennis match.\": 54, \"I'm a pretty competitive girl.\": 18, \"I say my hellos, but I'm not sending any players flowers as well.\": 27, \"Uhm, I'm not really friendly or close to many players.\": 27, \"I have not a lot of friends away from the courts.'\": 18, 'When she said she is not really close to a lot of players, is that something strategic that she is doing?': 11, \"Is it different on the men's tour than the women's tour?\": 8, \"'No, not at all.\": 27, \"I think just because you're in the same sport doesn't mean that you have to be friends with everyone just because you're categorized, you're a tennis player, so you're going to get along with tennis players.\": 48, 'I think every person has different interests.': 15, \"I have friends that have completely different jobs and interests, and I've met them in very different parts of my life.\": 27, \"I think everyone just thinks because we're tennis players we should be the greatest of friends.\": 18, 'But ultimately tennis is just a very small part of what we do.': 15, \"There are so many other things that we're interested in, that we do.'\": 30}\n"
     ]
    }
   ],
   "source": [
    "sent_score = {}\n",
    "for sent in sent_list:\n",
    "    for word in sent.lower():\n",
    "        if word in word_freq.keys():\n",
    "            if sent in sent_score.keys():\n",
    "                 sent_score[sent] += word_freq[word]\n",
    "            else:\n",
    "                sent_score[sent] = word_freq[word]\n",
    "                \n",
    "#potential problem: longer sentences tend to have higher scores than shorter ones\n",
    "\n",
    "print(sent_score)"
   ]
  },
  {
   "cell_type": "markdown",
   "metadata": {},
   "source": [
    "## Create a threshold(using the average score of the sentences)"
   ]
  },
  {
   "cell_type": "code",
   "execution_count": 7,
   "metadata": {},
   "outputs": [
    {
     "name": "stdout",
     "output_type": "stream",
     "text": [
      "23\n"
     ]
    }
   ],
   "source": [
    "sum = 0\n",
    "for k in sent_score:\n",
    "    sum += sent_score[k]\n",
    "\n",
    "average = int(sum / len(sent_score))\n",
    "print(average)"
   ]
  },
  {
   "cell_type": "markdown",
   "metadata": {},
   "source": [
    "## getting the summary"
   ]
  },
  {
   "cell_type": "code",
   "execution_count": 25,
   "metadata": {},
   "outputs": [
    {
     "name": "stdout",
     "output_type": "stream",
     "text": [
      " When I'm on the courts or when I'm on the court playing, I'm a competitor and I want to beat every single person whether they're in the locker room or across the net.So I'm not the one to strike up a conversation about the weather and know that in the next few minutes I have to go and try to win a tennis match. I say my hellos, but I'm not sending any players flowers as well. Uhm, I'm not really friendly or close to many players. 'No, not at all. I think just because you're in the same sport doesn't mean that you have to be friends with everyone just because you're categorized, you're a tennis player, so you're going to get along with tennis players. I have friends that have completely different jobs and interests, and I've met them in very different parts of my life. There are so many other things that we're interested in, that we do.'\n"
     ]
    }
   ],
   "source": [
    "summary = ''\n",
    "for sent in sent_list:\n",
    "    if sent in sent_score and sent_score[sent] > average:\n",
    "        summary += \" \" + sent\n",
    "print(summary)"
   ]
  },
  {
   "cell_type": "code",
   "execution_count": 26,
   "metadata": {},
   "outputs": [
    {
     "name": "stdout",
     "output_type": "stream",
     "text": [
      " When I'm on the courts or when I'm on the court playing, I'm a competitor and I want to beat every single person whether they're in the locker room or across the net.So I'm not the one to strike up a conversation about the weather and know that in the next few minutes I have to go and try to win a tennis match. I think just because you're in the same sport doesn't mean that you have to be friends with everyone just because you're categorized, you're a tennis player, so you're going to get along with tennis players.\n"
     ]
    }
   ],
   "source": [
    "# using 1.5 times of the average as the threshold\n",
    "\n",
    "summary = ''\n",
    "for sent in sent_list:\n",
    "    if sent in sent_score and sent_score[sent] > 1.5 * average:\n",
    "        summary += \" \" + sent\n",
    "print(summary)"
   ]
  },
  {
   "cell_type": "markdown",
   "metadata": {},
   "source": [
    "### only shorter sentences are scored"
   ]
  },
  {
   "cell_type": "code",
   "execution_count": 27,
   "metadata": {},
   "outputs": [],
   "source": [
    "sent_score = {}\n",
    "for sent in sent_list:\n",
    "    for word in sent.lower():\n",
    "        if word in word_freq.keys():\n",
    "            if len(sent.split(' ')) < 40:\n",
    "                if sent in sent_score.keys():\n",
    "                     sent_score[sent] += word_freq[word]\n",
    "                else:\n",
    "                    sent_score[sent] = word_freq[word]"
   ]
  },
  {
   "cell_type": "code",
   "execution_count": 28,
   "metadata": {},
   "outputs": [
    {
     "name": "stdout",
     "output_type": "stream",
     "text": [
      " I say my hellos, but I'm not sending any players flowers as well. Uhm, I'm not really friendly or close to many players. 'No, not at all. I think just because you're in the same sport doesn't mean that you have to be friends with everyone just because you're categorized, you're a tennis player, so you're going to get along with tennis players. I have friends that have completely different jobs and interests, and I've met them in very different parts of my life. There are so many other things that we're interested in, that we do.'\n"
     ]
    }
   ],
   "source": [
    "summary = ''\n",
    "for sent in sent_list:\n",
    "    if sent in sent_score and sent_score[sent] > average:\n",
    "        summary += \" \" + sent\n",
    "print(summary)"
   ]
  },
  {
   "cell_type": "code",
   "execution_count": 29,
   "metadata": {},
   "outputs": [
    {
     "name": "stdout",
     "output_type": "stream",
     "text": [
      " I think just because you're in the same sport doesn't mean that you have to be friends with everyone just because you're categorized, you're a tennis player, so you're going to get along with tennis players.\n"
     ]
    }
   ],
   "source": [
    "# using 1.5 times of the average as the threshold\n",
    "\n",
    "summary = ''\n",
    "for sent in sent_list:\n",
    "    if sent in sent_score and sent_score[sent] > 1.5 * average:\n",
    "        summary += \" \" + sent\n",
    "print(summary)"
   ]
  },
  {
   "cell_type": "code",
   "execution_count": null,
   "metadata": {},
   "outputs": [],
   "source": []
  }
 ],
 "metadata": {
  "kernelspec": {
   "display_name": "Python 3",
   "language": "python",
   "name": "python3"
  },
  "language_info": {
   "codemirror_mode": {
    "name": "ipython",
    "version": 3
   },
   "file_extension": ".py",
   "mimetype": "text/x-python",
   "name": "python",
   "nbconvert_exporter": "python",
   "pygments_lexer": "ipython3",
   "version": "3.7.3"
  }
 },
 "nbformat": 4,
 "nbformat_minor": 2
}
